{
 "cells": [
  {
   "cell_type": "markdown",
   "id": "f5067a68",
   "metadata": {},
   "source": [
    "# Q1. Write a program to find all pairs of an integer array whose sum is equal to a given number?"
   ]
  },
  {
   "cell_type": "code",
   "execution_count": 1,
   "id": "fde003a6",
   "metadata": {},
   "outputs": [],
   "source": [
    "def find_allpairs(arr,sum):\n",
    "    low = 0\n",
    "    high =len(arr)-1\n",
    "    while (low<high):\n",
    "        if (arr[low]+arr[high]==sum):\n",
    "            print(\"pair : (\",arr[low],\",\",arr[high],\")\")\n",
    "        if (arr[low]+arr[high]>sum):\n",
    "            high -= 1\n",
    "        else:\n",
    "            low += 1\n"
   ]
  },
  {
   "cell_type": "code",
   "execution_count": 2,
   "id": "2a7f7a33",
   "metadata": {},
   "outputs": [
    {
     "name": "stdout",
     "output_type": "stream",
     "text": [
      "pair : ( 1 , 9 )\n",
      "pair : ( 2 , 8 )\n",
      "pair : ( 3 , 7 )\n",
      "pair : ( 4 , 6 )\n"
     ]
    }
   ],
   "source": [
    "find_allpairs([1,2,3,4,5,6,7,8,9,],10)"
   ]
  },
  {
   "cell_type": "markdown",
   "id": "c424812f",
   "metadata": {},
   "source": [
    "# Q2. Write a program to reverse an array in place? In place means you cannot create a new array. You have to update the original array."
   ]
  },
  {
   "cell_type": "code",
   "execution_count": 3,
   "id": "da28ad7b",
   "metadata": {},
   "outputs": [
    {
     "name": "stdout",
     "output_type": "stream",
     "text": [
      "[6, 5, 4, 3, 2, 1]\n"
     ]
    }
   ],
   "source": [
    "def reversearr(arr,start):\n",
    "    end = len(arr)-1\n",
    "    while start < end:\n",
    "        arr[start],arr[end]=arr[end],arr[start]\n",
    "        start +=1\n",
    "        end-=1\n",
    "    print(arr)\n",
    "reversearr([1,2,3,4,5,6],0,) \n"
   ]
  },
  {
   "cell_type": "markdown",
   "id": "f31a26bb",
   "metadata": {},
   "source": [
    "# Q3. Write a program to check if two strings are a rotation of each other?"
   ]
  },
  {
   "cell_type": "code",
   "execution_count": 4,
   "id": "e27435a5",
   "metadata": {},
   "outputs": [
    {
     "data": {
      "text/plain": [
       "True"
      ]
     },
     "execution_count": 4,
     "metadata": {},
     "output_type": "execute_result"
    }
   ],
   "source": [
    "def checkrotation(A,B):\n",
    "    temp = ' '\n",
    "    if len(A) != len(B):\n",
    "        return False\n",
    "    temp =  A + B\n",
    "    if (temp.count(B)>0):\n",
    "        return True\n",
    "    else:\n",
    "        return False\n",
    "A = 'asdf'\n",
    "B = 'fdsa'\n",
    "checkrotation(A,B)\n"
   ]
  },
  {
   "cell_type": "markdown",
   "id": "cf50a72d",
   "metadata": {},
   "source": [
    "# Q4. Write a program to print the first non-repeated character from a string?"
   ]
  },
  {
   "cell_type": "code",
   "execution_count": 5,
   "id": "b6804130",
   "metadata": {},
   "outputs": [
    {
     "name": "stdout",
     "output_type": "stream",
     "text": [
      "o\n"
     ]
    }
   ],
   "source": [
    "from collections import Counter\n",
    "def mapping(string):\n",
    "    d1 = Counter(string)\n",
    "\n",
    "    d1 = {(key):(0 if d1[key]==1 else None) for key, value in d1.items()}\n",
    "    return d1   \n",
    "def first_non_repeated_char(s):\n",
    "    d = mapping(s)\n",
    "    nonrep = None\n",
    "    for i in s:\n",
    "        if d[i] is not None:\n",
    "            nonrep = i\n",
    "            break\n",
    "            \n",
    "    if nonrep is not None:\n",
    "        return  nonrep\n",
    "    else:\n",
    "        return str(\"_\")\n",
    "print(first_non_repeated_char(\"yogeshpatilyp\"))"
   ]
  },
  {
   "cell_type": "markdown",
   "id": "63d3e774",
   "metadata": {},
   "source": [
    "# Q5. Read about the Tower of Hanoi algorithm. Write a program to implement it."
   ]
  },
  {
   "cell_type": "markdown",
   "id": "7e1cf713",
   "metadata": {},
   "source": [
    "Tower of Hanoi is a mathematical puzzle where we have three rods and n disks.\n",
    "The objective of the puzzle is to move the entire stack to another rod, obeying the following simple\n",
    "rules: Only one disk can be moved at a time"
   ]
  },
  {
   "cell_type": "code",
   "execution_count": 6,
   "id": "87c9f3a5",
   "metadata": {},
   "outputs": [],
   "source": [
    "def TowerofHanoi(n,rod1,rod2,rod3):\n",
    "    if n==1:\n",
    "        print(\"move disk 1 from rod\",rod1,\"to rod\",rod2)\n",
    "        return\n",
    "    TowerofHanoi(n-1,rod1,rod3,rod2)\n",
    "    print(\"movedisk\",n,\"from rod\",rod1,\"to rod\",rod2)\n",
    "    TowerofHanoi(n-1,rod3,rod2,rod1)\n"
   ]
  },
  {
   "cell_type": "code",
   "execution_count": 7,
   "id": "f6bff11c",
   "metadata": {},
   "outputs": [
    {
     "name": "stdout",
     "output_type": "stream",
     "text": [
      "move disk 1 from rod A to rod C\n",
      "movedisk 2 from rod A to rod B\n",
      "move disk 1 from rod C to rod B\n",
      "movedisk 3 from rod A to rod C\n",
      "move disk 1 from rod B to rod A\n",
      "movedisk 2 from rod B to rod C\n",
      "move disk 1 from rod A to rod C\n",
      "movedisk 4 from rod A to rod B\n",
      "move disk 1 from rod C to rod B\n",
      "movedisk 2 from rod C to rod A\n",
      "move disk 1 from rod B to rod A\n",
      "movedisk 3 from rod C to rod B\n",
      "move disk 1 from rod A to rod C\n",
      "movedisk 2 from rod A to rod B\n",
      "move disk 1 from rod C to rod B\n"
     ]
    }
   ],
   "source": [
    "n=4\n",
    "TowerofHanoi(n,'A','B','C')"
   ]
  },
  {
   "cell_type": "markdown",
   "id": "0b177216",
   "metadata": {},
   "source": [
    "# Q6.Write a program to convert postfix to prefix expression."
   ]
  },
  {
   "cell_type": "code",
   "execution_count": 8,
   "id": "9aa8ddc3",
   "metadata": {},
   "outputs": [
    {
     "name": "stdout",
     "output_type": "stream",
     "text": [
      "ASD/-QW/E-*\n"
     ]
    }
   ],
   "source": [
    "def conversion(s):\n",
    "    stack = []\n",
    "    operators ={'+','/','-','*','^'}\n",
    "    s =s[::-1]\n",
    "    for i in s:\n",
    "        if i in operators:\n",
    "            a = stack.pop()\n",
    "            b = stack.pop()\n",
    "            \n",
    "            temp = a+b+i\n",
    "\n",
    "            stack.append(temp)\n",
    "        else:\n",
    "            stack.append(i)\n",
    "    print(*stack)\n",
    "conversion(\"*-A/SD-/QWE\")"
   ]
  },
  {
   "cell_type": "markdown",
   "id": "53937329",
   "metadata": {},
   "source": [
    "# Q7. Write a program to convert prefix expression to infix expression.# "
   ]
  },
  {
   "cell_type": "code",
   "execution_count": 9,
   "id": "1bb8e2fe",
   "metadata": {},
   "outputs": [
    {
     "name": "stdout",
     "output_type": "stream",
     "text": [
      "((A-(B/C))*((A/K)-L))\n"
     ]
    }
   ],
   "source": [
    "def conversion(s):\n",
    "    stack = []\n",
    "    operators ={'+','/','-','*','^'}\n",
    "    s =s[::-1]\n",
    "    for i in s:\n",
    "        if i in operators:\n",
    "            a = stack.pop()\n",
    "            b = stack.pop()\n",
    "            \n",
    "            temp = \"(\"+ a + i + b +\")\"\n",
    "\n",
    "            stack.append(temp)\n",
    "        else:\n",
    "            stack.append(i)\n",
    "    print(*stack)\n",
    "conversion(\"*-A/BC-/AKL\")\n"
   ]
  },
  {
   "cell_type": "markdown",
   "id": "e10babdd",
   "metadata": {},
   "source": [
    "# Q8. Write a program to check if all the brackets are closed in a given code snippet."
   ]
  },
  {
   "cell_type": "code",
   "execution_count": 12,
   "id": "a279a07f",
   "metadata": {},
   "outputs": [
    {
     "name": "stdout",
     "output_type": "stream",
     "text": [
      "[([])]\n",
      "Parenthesis are not Balanced!\n"
     ]
    }
   ],
   "source": [
    "class Stack():\n",
    "    def __init__(self,size):\n",
    "        self.data = []\n",
    "        self.size = size\n",
    "        self.length = 0\n",
    "        self.top = None\n",
    "        \n",
    "    def push(self,item):\n",
    "        if self.length < self.size:\n",
    "            self.data.append(item)\n",
    "            self.length+=1\n",
    "            self.top = item\n",
    "        else:\n",
    "            print('STACK OVERFLOW')\n",
    "            \n",
    "    def pop(self):\n",
    "        if self.length == 0:\n",
    "            print('STACK UNDERFLOW')\n",
    "            return None\n",
    "        else:\n",
    "            popped_item = self.data.pop()\n",
    "            self.length -= 1\n",
    "            if self.length == 0:\n",
    "                self.top = None\n",
    "            else:  \n",
    "                self.top = self.data[-1]\n",
    "            return popped_item\n",
    "    def peak(self):\n",
    "        return self.top\n",
    "    \n",
    "    def isEmpty(self):\n",
    "        return not bool(self.length)\n",
    "    \n",
    "    def length(self):\n",
    "        return self.length\n",
    "    def display(self):\n",
    "        print('Printing items from top to bottom...')\n",
    "        for i in self.data[::-1]:\n",
    "            print(i)\n",
    "            \n",
    "stack_obj = Stack(20)        \n",
    "expression = input()\n",
    "partner = {']':'[','}':'{',')':'('}\n",
    "for char in expression:\n",
    "    if char in ['{','[','(']:\n",
    "        stack_obj.push(char)\n",
    "    else:\n",
    "        if stack_obj.length == 0:\n",
    "            print('Parenthesis are not Balanced!')\n",
    "            break\n",
    "        else:\n",
    "            if partner[char] == stack_obj.peak():\n",
    "                stack_obj.pop()\n",
    "            else:\n",
    "                print('Parenthesis are not Balanced!')\n",
    "                break\n",
    "                \n",
    "else:\n",
    "    if stack_obj.length != 0:\n",
    "        print('Parenthesis are Balanced!')\n",
    "    else:\n",
    "        print('Parenthesis are not Balanced!')   "
   ]
  },
  {
   "cell_type": "markdown",
   "id": "f0b3d8f9",
   "metadata": {},
   "source": [
    "# Q9. Write a program to reverse a stack."
   ]
  },
  {
   "cell_type": "code",
   "execution_count": 16,
   "id": "671c314e",
   "metadata": {},
   "outputs": [
    {
     "name": "stdout",
     "output_type": "stream",
     "text": [
      "Original Stack \n",
      "1 2 3 4 \n",
      "Reversed Stack \n",
      "4 3 2 1 \n"
     ]
    }
   ],
   "source": [
    "def insertAtBottom(stack, item):\n",
    "    if isEmpty(stack):\n",
    "        push(stack, item)\n",
    "    else:\n",
    "        temp = pop(stack)\n",
    "        insertAtBottom(stack, item)\n",
    "        push(stack, temp)\n",
    "\n",
    "def reverse(stack):\n",
    "    if not isEmpty(stack):\n",
    "        temp = pop(stack)\n",
    "        reverse(stack)\n",
    "        insertAtBottom(stack, temp)\n",
    "\n",
    "def createStack():\n",
    "    stack = []\n",
    "    return stack         \n",
    "\n",
    "def isEmpty( stack ):\n",
    "    return len(stack) == 0\n",
    " \n",
    "\n",
    "def push( stack, item ):\n",
    "    stack.append( item )\n",
    " \n",
    "\n",
    "def pop( stack ):\n",
    " \n",
    "\n",
    "    if(isEmpty( stack )):\n",
    "        print(\"Stack Underflow \")\n",
    "        exit(1)\n",
    " \n",
    "    return stack.pop()\n",
    "\n",
    "def prints(stack):\n",
    "    for i in range(len(stack)-1, -1, -1):\n",
    "        print(stack[i], end = ' ')\n",
    "    print()\n",
    "stack = createStack()\n",
    "push( stack, str(4) )\n",
    "push( stack, str(3) )\n",
    "push( stack, str(2) )\n",
    "push( stack, str(1) )\n",
    "print(\"Original Stack \")\n",
    "prints(stack)\n",
    " \n",
    "reverse(stack)\n",
    " \n",
    "print(\"Reversed Stack \")\n",
    "prints(stack)"
   ]
  },
  {
   "cell_type": "markdown",
   "id": "ddaa3d03",
   "metadata": {},
   "source": [
    "# Q10. Write a program to find the smallest number using a stack."
   ]
  },
  {
   "cell_type": "code",
   "execution_count": 17,
   "id": "6e323f11",
   "metadata": {},
   "outputs": [
    {
     "data": {
      "text/plain": [
       "4"
      ]
     },
     "execution_count": 17,
     "metadata": {},
     "output_type": "execute_result"
    }
   ],
   "source": [
    "class min_stack():\n",
    "    def __init__(self):\n",
    "        \n",
    "        self.main_stack = []\n",
    "        self.help_stack = []\n",
    "        \n",
    "    def push(self,item):\n",
    "        self.main_stack.append(item)\n",
    "        if len(self.help_stack) >= 1:\n",
    "            if self.help_stack[-1] >= item:\n",
    "                self.help_stack.append(item)\n",
    "        else:\n",
    "            self.help_stack.append(item)\n",
    "            \n",
    "    def pop():\n",
    "        if len(self.main_stack) >= 1:\n",
    "            popped_value = self.main_stack.pop()\n",
    "            if popped_value == self.help_stack[-1]:\n",
    "                self.help_stack.pop()\n",
    "                \n",
    "    def min(self):\n",
    "        if len(self.help_stack) >= 1:\n",
    "            return self.help_stack[-1]\n",
    "        else:\n",
    "            return None\n",
    "obj = min_stack()\n",
    "obj.push(18)\n",
    "obj.push(22)\n",
    "obj.push(39)\n",
    "obj.push(4)\n",
    "obj.min()"
   ]
  },
  {
   "cell_type": "code",
   "execution_count": null,
   "id": "22486d30",
   "metadata": {},
   "outputs": [],
   "source": []
  }
 ],
 "metadata": {
  "kernelspec": {
   "display_name": "Python 3 (ipykernel)",
   "language": "python",
   "name": "python3"
  },
  "language_info": {
   "codemirror_mode": {
    "name": "ipython",
    "version": 3
   },
   "file_extension": ".py",
   "mimetype": "text/x-python",
   "name": "python",
   "nbconvert_exporter": "python",
   "pygments_lexer": "ipython3",
   "version": "3.10.0"
  }
 },
 "nbformat": 4,
 "nbformat_minor": 5
}
